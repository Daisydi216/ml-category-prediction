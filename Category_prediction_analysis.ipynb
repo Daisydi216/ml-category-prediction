{
  "nbformat": 4,
  "nbformat_minor": 0,
  "metadata": {
    "colab": {
      "provenance": [],
      "authorship_tag": "ABX9TyOcH1X50070JBpneU+oDZtB",
      "include_colab_link": true
    },
    "kernelspec": {
      "name": "python3",
      "display_name": "Python 3"
    },
    "language_info": {
      "name": "python"
    }
  },
  "cells": [
    {
      "cell_type": "markdown",
      "metadata": {
        "id": "view-in-github",
        "colab_type": "text"
      },
      "source": [
        "<a href=\"https://colab.research.google.com/github/Daisydi216/ml-category-prediction/blob/main/Category_prediction_analysis.ipynb\" target=\"_parent\"><img src=\"https://colab.research.google.com/assets/colab-badge.svg\" alt=\"Open In Colab\"/></a>"
      ]
    },
    {
      "cell_type": "markdown",
      "source": [
        "## Loading and inspecting the dataset\n",
        "\n",
        "Before analysis, we will first load the dataset and take a look at its structure.\n",
        "\n",
        "In this step, we will:\n",
        " - Load the CSV file from GitHub\n",
        " - Check how many rows and columns we have\n",
        " - Display the first few rows\n",
        " - Review data types and basic metadata for each column\n",
        "\n",
        "This will help us ensure dataset is correctly loaded and ready for further exploration"
      ],
      "metadata": {
        "id": "CKpmLigoVp1z"
      }
    },
    {
      "cell_type": "code",
      "execution_count": 49,
      "metadata": {
        "colab": {
          "base_uri": "https://localhost:8080/",
          "height": 554
        },
        "id": "v19lalIP3QSw",
        "outputId": "7491cf41-b47f-4f14-e49e-c8118b430de7"
      },
      "outputs": [
        {
          "output_type": "stream",
          "name": "stdout",
          "text": [
            "Dataset shape (rows, columns): (35311, 8)\n",
            "\n",
            "First 5 rows:\n"
          ]
        },
        {
          "output_type": "display_data",
          "data": {
            "text/plain": [
              "   product id                                      product title  merchant id  \\\n",
              "0           1                    apple iphone 8 plus 64gb silver            1   \n",
              "1           2                apple iphone 8 plus 64 gb spacegrau            2   \n",
              "2           3  apple mq8n2b/a iphone 8 plus 64gb 5.5 12mp sim...            3   \n",
              "3           4                apple iphone 8 plus 64gb space grey            4   \n",
              "4           5  apple iphone 8 plus gold 5.5 64gb 4g unlocked ...            5   \n",
              "\n",
              "  category label _product code  number_of_views  merchant rating listing date  \n",
              "0  mobile phones    qa-2276-xc            860.0              2.5   2024-05-10  \n",
              "1  mobile phones    ka-2501-qo           3772.0              4.8   2024-12-31  \n",
              "2  mobile phones    fp-8086-ie           3092.0              3.9   2024-11-10  \n",
              "3  mobile phones    yi-0086-us            466.0              3.4   2022-05-02  \n",
              "4  mobile phones    nz-3586-wp           4426.0              1.6   2023-04-12  "
            ],
            "text/html": [
              "\n",
              "  <div id=\"df-32dc0f59-8d64-4e27-ab50-0039658f90bc\" class=\"colab-df-container\">\n",
              "    <div>\n",
              "<style scoped>\n",
              "    .dataframe tbody tr th:only-of-type {\n",
              "        vertical-align: middle;\n",
              "    }\n",
              "\n",
              "    .dataframe tbody tr th {\n",
              "        vertical-align: top;\n",
              "    }\n",
              "\n",
              "    .dataframe thead th {\n",
              "        text-align: right;\n",
              "    }\n",
              "</style>\n",
              "<table border=\"1\" class=\"dataframe\">\n",
              "  <thead>\n",
              "    <tr style=\"text-align: right;\">\n",
              "      <th></th>\n",
              "      <th>product id</th>\n",
              "      <th>product title</th>\n",
              "      <th>merchant id</th>\n",
              "      <th>category label</th>\n",
              "      <th>_product code</th>\n",
              "      <th>number_of_views</th>\n",
              "      <th>merchant rating</th>\n",
              "      <th>listing date</th>\n",
              "    </tr>\n",
              "  </thead>\n",
              "  <tbody>\n",
              "    <tr>\n",
              "      <th>0</th>\n",
              "      <td>1</td>\n",
              "      <td>apple iphone 8 plus 64gb silver</td>\n",
              "      <td>1</td>\n",
              "      <td>mobile phones</td>\n",
              "      <td>qa-2276-xc</td>\n",
              "      <td>860.0</td>\n",
              "      <td>2.5</td>\n",
              "      <td>2024-05-10</td>\n",
              "    </tr>\n",
              "    <tr>\n",
              "      <th>1</th>\n",
              "      <td>2</td>\n",
              "      <td>apple iphone 8 plus 64 gb spacegrau</td>\n",
              "      <td>2</td>\n",
              "      <td>mobile phones</td>\n",
              "      <td>ka-2501-qo</td>\n",
              "      <td>3772.0</td>\n",
              "      <td>4.8</td>\n",
              "      <td>2024-12-31</td>\n",
              "    </tr>\n",
              "    <tr>\n",
              "      <th>2</th>\n",
              "      <td>3</td>\n",
              "      <td>apple mq8n2b/a iphone 8 plus 64gb 5.5 12mp sim...</td>\n",
              "      <td>3</td>\n",
              "      <td>mobile phones</td>\n",
              "      <td>fp-8086-ie</td>\n",
              "      <td>3092.0</td>\n",
              "      <td>3.9</td>\n",
              "      <td>2024-11-10</td>\n",
              "    </tr>\n",
              "    <tr>\n",
              "      <th>3</th>\n",
              "      <td>4</td>\n",
              "      <td>apple iphone 8 plus 64gb space grey</td>\n",
              "      <td>4</td>\n",
              "      <td>mobile phones</td>\n",
              "      <td>yi-0086-us</td>\n",
              "      <td>466.0</td>\n",
              "      <td>3.4</td>\n",
              "      <td>2022-05-02</td>\n",
              "    </tr>\n",
              "    <tr>\n",
              "      <th>4</th>\n",
              "      <td>5</td>\n",
              "      <td>apple iphone 8 plus gold 5.5 64gb 4g unlocked ...</td>\n",
              "      <td>5</td>\n",
              "      <td>mobile phones</td>\n",
              "      <td>nz-3586-wp</td>\n",
              "      <td>4426.0</td>\n",
              "      <td>1.6</td>\n",
              "      <td>2023-04-12</td>\n",
              "    </tr>\n",
              "  </tbody>\n",
              "</table>\n",
              "</div>\n",
              "    <div class=\"colab-df-buttons\">\n",
              "\n",
              "  <div class=\"colab-df-container\">\n",
              "    <button class=\"colab-df-convert\" onclick=\"convertToInteractive('df-32dc0f59-8d64-4e27-ab50-0039658f90bc')\"\n",
              "            title=\"Convert this dataframe to an interactive table.\"\n",
              "            style=\"display:none;\">\n",
              "\n",
              "  <svg xmlns=\"http://www.w3.org/2000/svg\" height=\"24px\" viewBox=\"0 -960 960 960\">\n",
              "    <path d=\"M120-120v-720h720v720H120Zm60-500h600v-160H180v160Zm220 220h160v-160H400v160Zm0 220h160v-160H400v160ZM180-400h160v-160H180v160Zm440 0h160v-160H620v160ZM180-180h160v-160H180v160Zm440 0h160v-160H620v160Z\"/>\n",
              "  </svg>\n",
              "    </button>\n",
              "\n",
              "  <style>\n",
              "    .colab-df-container {\n",
              "      display:flex;\n",
              "      gap: 12px;\n",
              "    }\n",
              "\n",
              "    .colab-df-convert {\n",
              "      background-color: #E8F0FE;\n",
              "      border: none;\n",
              "      border-radius: 50%;\n",
              "      cursor: pointer;\n",
              "      display: none;\n",
              "      fill: #1967D2;\n",
              "      height: 32px;\n",
              "      padding: 0 0 0 0;\n",
              "      width: 32px;\n",
              "    }\n",
              "\n",
              "    .colab-df-convert:hover {\n",
              "      background-color: #E2EBFA;\n",
              "      box-shadow: 0px 1px 2px rgba(60, 64, 67, 0.3), 0px 1px 3px 1px rgba(60, 64, 67, 0.15);\n",
              "      fill: #174EA6;\n",
              "    }\n",
              "\n",
              "    .colab-df-buttons div {\n",
              "      margin-bottom: 4px;\n",
              "    }\n",
              "\n",
              "    [theme=dark] .colab-df-convert {\n",
              "      background-color: #3B4455;\n",
              "      fill: #D2E3FC;\n",
              "    }\n",
              "\n",
              "    [theme=dark] .colab-df-convert:hover {\n",
              "      background-color: #434B5C;\n",
              "      box-shadow: 0px 1px 3px 1px rgba(0, 0, 0, 0.15);\n",
              "      filter: drop-shadow(0px 1px 2px rgba(0, 0, 0, 0.3));\n",
              "      fill: #FFFFFF;\n",
              "    }\n",
              "  </style>\n",
              "\n",
              "    <script>\n",
              "      const buttonEl =\n",
              "        document.querySelector('#df-32dc0f59-8d64-4e27-ab50-0039658f90bc button.colab-df-convert');\n",
              "      buttonEl.style.display =\n",
              "        google.colab.kernel.accessAllowed ? 'block' : 'none';\n",
              "\n",
              "      async function convertToInteractive(key) {\n",
              "        const element = document.querySelector('#df-32dc0f59-8d64-4e27-ab50-0039658f90bc');\n",
              "        const dataTable =\n",
              "          await google.colab.kernel.invokeFunction('convertToInteractive',\n",
              "                                                    [key], {});\n",
              "        if (!dataTable) return;\n",
              "\n",
              "        const docLinkHtml = 'Like what you see? Visit the ' +\n",
              "          '<a target=\"_blank\" href=https://colab.research.google.com/notebooks/data_table.ipynb>data table notebook</a>'\n",
              "          + ' to learn more about interactive tables.';\n",
              "        element.innerHTML = '';\n",
              "        dataTable['output_type'] = 'display_data';\n",
              "        await google.colab.output.renderOutput(dataTable, element);\n",
              "        const docLink = document.createElement('div');\n",
              "        docLink.innerHTML = docLinkHtml;\n",
              "        element.appendChild(docLink);\n",
              "      }\n",
              "    </script>\n",
              "  </div>\n",
              "\n",
              "\n",
              "    <div id=\"df-b48c49ed-46c0-4957-a546-c1b0492e9ffc\">\n",
              "      <button class=\"colab-df-quickchart\" onclick=\"quickchart('df-b48c49ed-46c0-4957-a546-c1b0492e9ffc')\"\n",
              "                title=\"Suggest charts\"\n",
              "                style=\"display:none;\">\n",
              "\n",
              "<svg xmlns=\"http://www.w3.org/2000/svg\" height=\"24px\"viewBox=\"0 0 24 24\"\n",
              "     width=\"24px\">\n",
              "    <g>\n",
              "        <path d=\"M19 3H5c-1.1 0-2 .9-2 2v14c0 1.1.9 2 2 2h14c1.1 0 2-.9 2-2V5c0-1.1-.9-2-2-2zM9 17H7v-7h2v7zm4 0h-2V7h2v10zm4 0h-2v-4h2v4z\"/>\n",
              "    </g>\n",
              "</svg>\n",
              "      </button>\n",
              "\n",
              "<style>\n",
              "  .colab-df-quickchart {\n",
              "      --bg-color: #E8F0FE;\n",
              "      --fill-color: #1967D2;\n",
              "      --hover-bg-color: #E2EBFA;\n",
              "      --hover-fill-color: #174EA6;\n",
              "      --disabled-fill-color: #AAA;\n",
              "      --disabled-bg-color: #DDD;\n",
              "  }\n",
              "\n",
              "  [theme=dark] .colab-df-quickchart {\n",
              "      --bg-color: #3B4455;\n",
              "      --fill-color: #D2E3FC;\n",
              "      --hover-bg-color: #434B5C;\n",
              "      --hover-fill-color: #FFFFFF;\n",
              "      --disabled-bg-color: #3B4455;\n",
              "      --disabled-fill-color: #666;\n",
              "  }\n",
              "\n",
              "  .colab-df-quickchart {\n",
              "    background-color: var(--bg-color);\n",
              "    border: none;\n",
              "    border-radius: 50%;\n",
              "    cursor: pointer;\n",
              "    display: none;\n",
              "    fill: var(--fill-color);\n",
              "    height: 32px;\n",
              "    padding: 0;\n",
              "    width: 32px;\n",
              "  }\n",
              "\n",
              "  .colab-df-quickchart:hover {\n",
              "    background-color: var(--hover-bg-color);\n",
              "    box-shadow: 0 1px 2px rgba(60, 64, 67, 0.3), 0 1px 3px 1px rgba(60, 64, 67, 0.15);\n",
              "    fill: var(--button-hover-fill-color);\n",
              "  }\n",
              "\n",
              "  .colab-df-quickchart-complete:disabled,\n",
              "  .colab-df-quickchart-complete:disabled:hover {\n",
              "    background-color: var(--disabled-bg-color);\n",
              "    fill: var(--disabled-fill-color);\n",
              "    box-shadow: none;\n",
              "  }\n",
              "\n",
              "  .colab-df-spinner {\n",
              "    border: 2px solid var(--fill-color);\n",
              "    border-color: transparent;\n",
              "    border-bottom-color: var(--fill-color);\n",
              "    animation:\n",
              "      spin 1s steps(1) infinite;\n",
              "  }\n",
              "\n",
              "  @keyframes spin {\n",
              "    0% {\n",
              "      border-color: transparent;\n",
              "      border-bottom-color: var(--fill-color);\n",
              "      border-left-color: var(--fill-color);\n",
              "    }\n",
              "    20% {\n",
              "      border-color: transparent;\n",
              "      border-left-color: var(--fill-color);\n",
              "      border-top-color: var(--fill-color);\n",
              "    }\n",
              "    30% {\n",
              "      border-color: transparent;\n",
              "      border-left-color: var(--fill-color);\n",
              "      border-top-color: var(--fill-color);\n",
              "      border-right-color: var(--fill-color);\n",
              "    }\n",
              "    40% {\n",
              "      border-color: transparent;\n",
              "      border-right-color: var(--fill-color);\n",
              "      border-top-color: var(--fill-color);\n",
              "    }\n",
              "    60% {\n",
              "      border-color: transparent;\n",
              "      border-right-color: var(--fill-color);\n",
              "    }\n",
              "    80% {\n",
              "      border-color: transparent;\n",
              "      border-right-color: var(--fill-color);\n",
              "      border-bottom-color: var(--fill-color);\n",
              "    }\n",
              "    90% {\n",
              "      border-color: transparent;\n",
              "      border-bottom-color: var(--fill-color);\n",
              "    }\n",
              "  }\n",
              "</style>\n",
              "\n",
              "      <script>\n",
              "        async function quickchart(key) {\n",
              "          const quickchartButtonEl =\n",
              "            document.querySelector('#' + key + ' button');\n",
              "          quickchartButtonEl.disabled = true;  // To prevent multiple clicks.\n",
              "          quickchartButtonEl.classList.add('colab-df-spinner');\n",
              "          try {\n",
              "            const charts = await google.colab.kernel.invokeFunction(\n",
              "                'suggestCharts', [key], {});\n",
              "          } catch (error) {\n",
              "            console.error('Error during call to suggestCharts:', error);\n",
              "          }\n",
              "          quickchartButtonEl.classList.remove('colab-df-spinner');\n",
              "          quickchartButtonEl.classList.add('colab-df-quickchart-complete');\n",
              "        }\n",
              "        (() => {\n",
              "          let quickchartButtonEl =\n",
              "            document.querySelector('#df-b48c49ed-46c0-4957-a546-c1b0492e9ffc button');\n",
              "          quickchartButtonEl.style.display =\n",
              "            google.colab.kernel.accessAllowed ? 'block' : 'none';\n",
              "        })();\n",
              "      </script>\n",
              "    </div>\n",
              "\n",
              "    </div>\n",
              "  </div>\n"
            ],
            "application/vnd.google.colaboratory.intrinsic+json": {
              "type": "dataframe",
              "summary": "{\n  \"name\": \"    print(\\\"\\\\nFailed to load the dataset\",\n  \"rows\": 5,\n  \"fields\": [\n    {\n      \"column\": \"product id\",\n      \"properties\": {\n        \"dtype\": \"number\",\n        \"std\": 1,\n        \"min\": 1,\n        \"max\": 5,\n        \"num_unique_values\": 5,\n        \"samples\": [\n          2,\n          5,\n          3\n        ],\n        \"semantic_type\": \"\",\n        \"description\": \"\"\n      }\n    },\n    {\n      \"column\": \"product title\",\n      \"properties\": {\n        \"dtype\": \"string\",\n        \"num_unique_values\": 5,\n        \"samples\": [\n          \"apple iphone 8 plus 64 gb spacegrau\",\n          \"apple iphone 8 plus gold 5.5 64gb 4g unlocked sim free\",\n          \"apple mq8n2b/a iphone 8 plus 64gb 5.5 12mp sim free smartphone in gold\"\n        ],\n        \"semantic_type\": \"\",\n        \"description\": \"\"\n      }\n    },\n    {\n      \"column\": \"merchant id\",\n      \"properties\": {\n        \"dtype\": \"number\",\n        \"std\": 1,\n        \"min\": 1,\n        \"max\": 5,\n        \"num_unique_values\": 5,\n        \"samples\": [\n          2,\n          5,\n          3\n        ],\n        \"semantic_type\": \"\",\n        \"description\": \"\"\n      }\n    },\n    {\n      \"column\": \"category label\",\n      \"properties\": {\n        \"dtype\": \"category\",\n        \"num_unique_values\": 1,\n        \"samples\": [\n          \"mobile phones\"\n        ],\n        \"semantic_type\": \"\",\n        \"description\": \"\"\n      }\n    },\n    {\n      \"column\": \"_product code\",\n      \"properties\": {\n        \"dtype\": \"string\",\n        \"num_unique_values\": 5,\n        \"samples\": [\n          \"ka-2501-qo\"\n        ],\n        \"semantic_type\": \"\",\n        \"description\": \"\"\n      }\n    },\n    {\n      \"column\": \"number_of_views\",\n      \"properties\": {\n        \"dtype\": \"number\",\n        \"std\": 1767.9075767697814,\n        \"min\": 466.0,\n        \"max\": 4426.0,\n        \"num_unique_values\": 5,\n        \"samples\": [\n          3772.0\n        ],\n        \"semantic_type\": \"\",\n        \"description\": \"\"\n      }\n    },\n    {\n      \"column\": \"merchant rating\",\n      \"properties\": {\n        \"dtype\": \"number\",\n        \"std\": 1.2381437719424995,\n        \"min\": 1.6,\n        \"max\": 4.8,\n        \"num_unique_values\": 5,\n        \"samples\": [\n          4.8\n        ],\n        \"semantic_type\": \"\",\n        \"description\": \"\"\n      }\n    },\n    {\n      \"column\": \"listing date\",\n      \"properties\": {\n        \"dtype\": \"date\",\n        \"min\": \"2022-05-02 00:00:00\",\n        \"max\": \"2024-12-31 00:00:00\",\n        \"num_unique_values\": 5,\n        \"samples\": [\n          \"2024-12-31 00:00:00\"\n        ],\n        \"semantic_type\": \"\",\n        \"description\": \"\"\n      }\n    }\n  ]\n}"
            }
          },
          "metadata": {}
        },
        {
          "output_type": "stream",
          "name": "stdout",
          "text": [
            "\n",
            "Dataset info:\n",
            "<class 'pandas.core.frame.DataFrame'>\n",
            "RangeIndex: 35311 entries, 0 to 35310\n",
            "Data columns (total 8 columns):\n",
            " #   Column           Non-Null Count  Dtype         \n",
            "---  ------           --------------  -----         \n",
            " 0   product id       35311 non-null  int64         \n",
            " 1   product title    35311 non-null  object        \n",
            " 2   merchant id      35311 non-null  int64         \n",
            " 3   category label   35311 non-null  object        \n",
            " 4   _product code    35311 non-null  object        \n",
            " 5   number_of_views  35297 non-null  float64       \n",
            " 6   merchant rating  35141 non-null  float64       \n",
            " 7   listing date     35252 non-null  datetime64[ns]\n",
            "dtypes: datetime64[ns](1), float64(2), int64(2), object(3)\n",
            "memory usage: 2.2+ MB\n"
          ]
        }
      ],
      "source": [
        "import pandas as pd\n",
        "\n",
        "# load dataset from GitHub (using the raw file URL)\n",
        "url = \"https://raw.githubusercontent.com/Daisydi216/ml-category-prediction/main/data/products.csv\"\n",
        "\n",
        "# Try reading the CSV with a common delimiter and error handling\n",
        "try:\n",
        "    df = pd.read_csv(url, delimiter=',', on_bad_lines='skip') # Assuming comma delimiter, skip bad lines\n",
        "except Exception as e:\n",
        "    print(f\"An error occurred while reading the CSV: {e}\")\n",
        "    # If the above fails, try without specifying delimiter, letting pandas infer\n",
        "    try:\n",
        "        df = pd.read_csv(url, on_bad_lines='skip')\n",
        "        print(\"Attempted reading without specifying delimiter.\")\n",
        "    except Exception as e:\n",
        "        print(f\"An error occurred with both attempts: {e}\")\n",
        "        df = None # Ensure df is None if loading fails\n",
        "\n",
        "\n",
        "if df is not None:\n",
        "    # Print shape (number of rows and columns)\n",
        "    print(\"Dataset shape (rows, columns):\", df.shape)\n",
        "\n",
        "    # Clean column names and convert to lowercase\n",
        "    df.columns = df.columns.str.strip()\n",
        "    df.columns = df.columns.str.lower()\n",
        "\n",
        "    # Apply string operations after cleaning column names\n",
        "\n",
        "    df['product title'] = df['product title'].astype(str).str.strip().str.lower()\n",
        "    df['category label'] = df['category label'].astype(str).str.strip().str.lower()\n",
        "    df['_product code'] = df['_product code'].astype(str).str.strip().str.lower()\n",
        "\n",
        "    # Convert 'Listing Date' to datetime objects\n",
        "    df['listing date'] = pd.to_datetime(df['listing date'], errors='coerce')\n",
        "\n",
        "\n",
        "    # Show first 5 rows\n",
        "    print(\"\\nFirst 5 rows:\")\n",
        "    display(df.head())\n",
        "\n",
        "    # Show column data types and non-null counts\n",
        "    print(\"\\nDataset info:\")\n",
        "    df.info()\n",
        "else:\n",
        "    print(\"\\nFailed to load the dataset.\")"
      ]
    },
    {
      "cell_type": "markdown",
      "source": [
        "## Checking for missing values\n",
        "\n",
        "Missing data can cause problems during model training or analysis.\n",
        "We will:\n",
        "  - Count the number of missing (NaN) values per column\n",
        "  - Visualize missing values using a heatmap\n",
        "\n",
        "This will help us identify any columns that require cleaning or imputation."
      ],
      "metadata": {
        "id": "J3jl66_BWp8d"
      }
    },
    {
      "cell_type": "code",
      "source": [
        "# Count missing values per column\n",
        "print(\"Missing values per column:\")\n",
        "print(df.isna().sum())"
      ],
      "metadata": {
        "colab": {
          "base_uri": "https://localhost:8080/"
        },
        "id": "tSgydtGzWrLl",
        "outputId": "aa4ac191-b3ee-4c10-86c0-9eebf582f446"
      },
      "execution_count": null,
      "outputs": [
        {
          "output_type": "stream",
          "name": "stdout",
          "text": [
            "Missing values per column:\n",
            "product id           0\n",
            "product title        0\n",
            "merchant id          0\n",
            "category label       0\n",
            "_product code        0\n",
            "number_of_views     14\n",
            "merchant rating    170\n",
            "listing date        59\n",
            "dtype: int64\n"
          ]
        }
      ]
    },
    {
      "cell_type": "code",
      "source": [
        "# Display the percentage of missing values\n",
        "missing_percentage = df.isna().mean() * 100\n",
        "print(\"\\nPercentage of missing values per column:\")\n",
        "print(missing_percentage[missing_percentage > 0])"
      ],
      "metadata": {
        "colab": {
          "base_uri": "https://localhost:8080/"
        },
        "id": "Q52O5fvYbKaL",
        "outputId": "f73b95fe-eb13-44a1-af64-975d7f16c64f"
      },
      "execution_count": null,
      "outputs": [
        {
          "output_type": "stream",
          "name": "stdout",
          "text": [
            "\n",
            "Percentage of missing values per column:\n",
            "Product Title      0.487100\n",
            " Category Label    0.124607\n",
            "_Product Code      0.269038\n",
            "Number_of_Views    0.039648\n",
            "Merchant Rating    0.481436\n",
            " Listing Date      0.167087\n",
            "dtype: float64\n"
          ]
        }
      ]
    },
    {
      "cell_type": "code",
      "source": [
        "# Visualize missing data with seaborn heatmap\n",
        "import seaborn as sns\n",
        "import matplotlib.pyplot as plt\n",
        "\n",
        "# Step 2: Visualize missing data with a heatmap\n",
        "plt.figure(figsize=(10, 6))\n",
        "sns.heatmap(df.isna(), cbar=False, cmap='viridis')\n",
        "plt.title('Missing Data Heatmap')\n",
        "plt.show()"
      ],
      "metadata": {
        "colab": {
          "base_uri": "https://localhost:8080/",
          "height": 654
        },
        "id": "xbUqrlKoXGOT",
        "outputId": "cd6923d5-62f7-4388-c1d2-02f526e3e818"
      },
      "execution_count": null,
      "outputs": [
        {
          "output_type": "display_data",
          "data": {
            "text/plain": [
              "<Figure size 1000x600 with 1 Axes>"
            ],
            "image/png": "[encoded data removed]"
          },
          "metadata": {}
        }
      ]
    },
    {
      "cell_type": "markdown",
      "source": [
        "## Handle missing values\n",
        "# Filling missing values with mean/median (for numeric columns)\n",
        "\n",
        "- **`df.select_dtypes(include=['float64', 'int64'])`**: This line selects all numeric columns from the DataFrame (`df`), which are of type `float64` (floating-point numbers) and `int64` (integers).\n",
        "  \n",
        "- **`median_value = df[col].mean()`**: Calculates the median of the selected numeric column.\n",
        "\n",
        "- **`df[col].fillna(median_value, inplace=True)`**: Fills the missing values in that column with the computed mean directly in the DataFrame."
      ],
      "metadata": {
        "id": "UGkPmEJ4bwOT"
      }
    },
    {
      "cell_type": "code",
      "source": [
        "# Filling missing values with mean/median (for numeric columns)\n",
        "numeric_cols = df.select_dtypes(include=['float64', 'int64']).columns\n",
        "for col in numeric_cols:\n",
        "    median_value = df[col].median()\n",
        "    df[col].fillna(median_value)"
      ],
      "metadata": {
        "id": "oPj3YZUEaCKM"
      },
      "execution_count": null,
      "outputs": []
    },
    {
      "cell_type": "markdown",
      "source": [
        "# Filling categorical columns with the mode\n",
        "\n",
        "- **`df.select_dtypes(include=['object'])`**: This identifies all categorical columns (usually represented as strings) in the DataFrame.\n",
        "\n",
        "- **`mode_value = df[col].mode()[0]`**: The `.mode()` method returns a Series of the most frequent values. `[0]` retrieves the first mode if there are multiple modes.\n",
        "\n",
        "- **`df[col].fillna(mode_value, inplace=True)`**: This line fills in the missing values within categorical columns based on the determined mode\n",
        "\n",
        "The mode is a statistical measure that represents the most frequently occurring value in a dataset. It is one of the measures of central tendency, alongside the mean (average) and median (middle value)."
      ],
      "metadata": {
        "id": "-oxhox5cduo2"
      }
    },
    {
      "cell_type": "code",
      "source": [
        "# Filling categorical columns with the mode\n",
        "categorical_cols = df.select_dtypes(include=['object']).columns\n",
        "for col in categorical_cols:\n",
        "    mode_value = df[col].mode()[0]\n",
        "    df[col].fillna(mode_value)"
      ],
      "metadata": {
        "id": "wxSRZFlwcoFh"
      },
      "execution_count": null,
      "outputs": []
    },
    {
      "cell_type": "code",
      "source": [
        "# Verify if there are any missing values left\n",
        "print(\"\\nMissing values after handling:\")\n",
        "print(df.isna().sum())"
      ],
      "metadata": {
        "colab": {
          "base_uri": "https://localhost:8080/"
        },
        "id": "ep5cvrFUcOaR",
        "outputId": "f756b62f-7de0-43ec-9088-594fa00d42bd"
      },
      "execution_count": null,
      "outputs": [
        {
          "output_type": "stream",
          "name": "stdout",
          "text": [
            "\n",
            "Missing values after handling:\n",
            "product ID         0\n",
            "Product Title      0\n",
            "Merchant ID        0\n",
            " Category Label    0\n",
            "_Product Code      0\n",
            "Number_of_Views    0\n",
            "Merchant Rating    0\n",
            " Listing Date      0\n",
            "dtype: int64\n"
          ]
        }
      ]
    },
    {
      "cell_type": "markdown",
      "source": [
        "# Removing missing values\n",
        "\n",
        "We will simply drop all rows that contain missing values, and check the new shape oand count missing values per column."
      ],
      "metadata": {
        "id": "JFCcmLo7f2qI"
      }
    },
    {
      "cell_type": "code",
      "source": [
        "# Drop all rows with missing values\n",
        "df = df.dropna()\n",
        "\n",
        "# Display new shape of the dataset\n",
        "print(\"New dataset shape:\", df.shape)\n",
        "\n",
        "# Count missing values per column\n",
        "print(\"Missing values per column:\")\n",
        "print(df.isna().sum())"
      ],
      "metadata": {
        "colab": {
          "base_uri": "https://localhost:8080/"
        },
        "id": "iFLOEHTFfa5j",
        "outputId": "6c8401db-5755-4515-e8ff-2c7e5c98aad4"
      },
      "execution_count": 48,
      "outputs": [
        {
          "output_type": "stream",
          "name": "stdout",
          "text": [
            "New dataset shape: (34760, 8)\n",
            "Missing values per column:\n",
            "product id         0\n",
            "product title      0\n",
            "merchant id        0\n",
            "category label     0\n",
            "_product code      0\n",
            "number_of_views    0\n",
            "merchant rating    0\n",
            "listing date       0\n",
            "dtype: int64\n"
          ]
        }
      ]
    },
    {
      "cell_type": "code",
      "source": [
        "df = pd.read_csv(url)\n",
        "\n",
        "# Count the number of rows before removing missing values\n",
        "rows_before = len(df)\n",
        "\n",
        "# Filter out rows that contain at least one missing value\n",
        "rows_with_nan = df[df.isnull().any(axis=1)]\n",
        "\n",
        "# Display a random sample of rows that will be removed\n",
        "print(\" Randomly selected rows containing missing values:\\n\")\n",
        "print(rows_with_nan.sample(n=min(15, len(rows_with_nan)), random_state=42))\n",
        "\n",
        "# Remove rows with any missing values\n",
        "df_cleaned = df.dropna()\n",
        "\n",
        "# Count the number of rows after removing missing values\n",
        "rows_after = len(df_cleaned)\n",
        "\n",
        "# Show removal statistics\n",
        "print(\"\\n Removal statistics:\")\n",
        "print(f\"- Number of rows before: {rows_before}\")\n",
        "print(f\"- Number of rows after: {rows_after}\")\n",
        "print(f\"- Number of removed rows: {rows_before - rows_after}\")"
      ],
      "metadata": {
        "colab": {
          "base_uri": "https://localhost:8080/"
        },
        "id": "tEEQkrcXpWdK",
        "outputId": "fbd1d577-4dc1-4e62-fe51-c61442ec997f"
      },
      "execution_count": 45,
      "outputs": [
        {
          "output_type": "stream",
          "name": "stdout",
          "text": [
            " Randomly selected rows containing missing values:\n",
            "\n",
            "       product ID                                      Product Title  \\\n",
            "34920       46948                                                NaN   \n",
            "5908        11926                                                NaN   \n",
            "8613        14740                                                NaN   \n",
            "5735        11746  lg hospitality display 55lv340c lcd tv 139 7 c...   \n",
            "17299       27177       aeg fss62600p integrated 13 place dishwasher   \n",
            "14527       24130                                                NaN   \n",
            "27516       38697                                samsung rf24fsedbsr   \n",
            "25671       36643     miele f 9122 ui 2 built in small freezer white   \n",
            "5912        11930       toshiba 32w1633db 81.3 cm 32 led lcd tv 16 9   \n",
            "19410       29562                                                NaN   \n",
            "10877       17267  hewlett packard enterprise intel xeon e5640 fi...   \n",
            "553           554                                                NaN   \n",
            "5933        11951  toshiba 24w2863db 24 hd ready smart led tv wit...   \n",
            "13944       23506  pentax kp digital camera with da 18 270mm lens...   \n",
            "16880       26678                        bosch sms25ew00g/sms25ew00g   \n",
            "\n",
            "       Merchant ID   Category Label _Product Code  Number_of_Views  \\\n",
            "34920          119          Fridges    FV-2962-JM           1064.0   \n",
            "5908             6              TVs    LI-2450-YG           1916.0   \n",
            "8613            36             CPUs    AG-9404-LG           3301.0   \n",
            "5735            99              TVs    EW-2383-EQ           2212.0   \n",
            "17299            1      Dishwashers    JU-2065-EQ           1857.0   \n",
            "14527            3       Microwaves    ZC-4383-VU            375.0   \n",
            "27516          134  Fridge Freezers    YH-2617-IX            880.0   \n",
            "25671          294         Freezers    QM-2053-WQ            747.0   \n",
            "5912            79              TVs           NaN           1956.0   \n",
            "19410          293      Dishwashers    JV-7091-RP           2738.0   \n",
            "10877           64             CPUs           NaN           2365.0   \n",
            "553              3    Mobile Phones    TA-4759-MR           4924.0   \n",
            "5933            32              TVs    NW-1408-YM           4703.0   \n",
            "13944           88  Digital Cameras    JH-0202-LH           1675.0   \n",
            "16880           98      Dishwashers    IJ-6944-AZ           4354.0   \n",
            "\n",
            "       Merchant Rating  Listing Date    \n",
            "34920              2.1       6/10/2022  \n",
            "5908               1.9       3/23/2023  \n",
            "8613               1.4      10/13/2023  \n",
            "5735               NaN       6/11/2024  \n",
            "17299              4.0             NaN  \n",
            "14527              2.4       9/18/2022  \n",
            "27516              NaN        6/7/2024  \n",
            "25671              NaN       12/5/2023  \n",
            "5912               3.8       6/15/2024  \n",
            "19410              3.3       5/27/2024  \n",
            "10877              3.2       9/10/2023  \n",
            "553                3.2       9/23/2024  \n",
            "5933               5.0             NaN  \n",
            "13944              NaN       8/13/2022  \n",
            "16880              NaN      12/23/2022  \n",
            "\n",
            " Removal statistics:\n",
            "- Number of rows before: 35311\n",
            "- Number of rows after: 34760\n",
            "- Number of removed rows: 551\n"
          ]
        }
      ]
    },
    {
      "cell_type": "code",
      "source": [
        "# Step 5: Save the cleaned DataFrame to a new CSV file\n",
        "cleaned_file_path = 'cleaned_data.csv'\n",
        "df.to_csv(cleaned_file_path, index=False)\n",
        "print(f\"\\nCleaned data saved to {cleaned_file_path}\")"
      ],
      "metadata": {
        "colab": {
          "base_uri": "https://localhost:8080/"
        },
        "id": "mIUT2vE62CRv",
        "outputId": "dd045bfe-39d1-4d66-df9a-ea46a28204c1"
      },
      "execution_count": 50,
      "outputs": [
        {
          "output_type": "stream",
          "name": "stdout",
          "text": [
            "\n",
            "Cleaned data saved to cleaned_data.csv\n"
          ]
        }
      ]
    }
  ]
}